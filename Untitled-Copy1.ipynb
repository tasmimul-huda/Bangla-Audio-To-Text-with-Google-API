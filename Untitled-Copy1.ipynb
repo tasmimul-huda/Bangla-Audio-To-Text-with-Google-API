{
 "cells": [
  {
   "cell_type": "markdown",
   "metadata": {},
   "source": [
    "* Reading The Audio file\n",
    "* store the name of the audio\n",
    "* convert the text into audio\n",
    "* save the text file with the same name\n"
   ]
  },
  {
   "cell_type": "code",
   "execution_count": 1,
   "metadata": {},
   "outputs": [],
   "source": [
    "import speech_recognition as sr\n",
    "import os"
   ]
  },
  {
   "cell_type": "code",
   "execution_count": 2,
   "metadata": {},
   "outputs": [],
   "source": [
    "text_dir = \"E:/bangla TTS/bangla_TTS_TEXT\"\n",
    "#os.mkdir(text_dir)"
   ]
  },
  {
   "cell_type": "code",
   "execution_count": 3,
   "metadata": {},
   "outputs": [],
   "source": [
    "r = sr.Recognizer()"
   ]
  },
  {
   "cell_type": "code",
   "execution_count": 4,
   "metadata": {},
   "outputs": [],
   "source": [
    "audio_dir = \"E:/bangla TTS/bangla_tts_generated\""
   ]
  },
  {
   "cell_type": "code",
   "execution_count": 5,
   "metadata": {},
   "outputs": [],
   "source": [
    "filename = audio_dir + \"/bangla_tts_bang1.wav\""
   ]
  },
  {
   "cell_type": "code",
   "execution_count": 6,
   "metadata": {},
   "outputs": [
    {
     "name": "stdout",
     "output_type": "stream",
     "text": [
      "E:/bangla TTS/bangla_tts_generated/bangla_tts_bang1.wav\n"
     ]
    }
   ],
   "source": [
    "name = str(filename)\n",
    "print(name)"
   ]
  },
  {
   "cell_type": "code",
   "execution_count": 7,
   "metadata": {},
   "outputs": [
    {
     "data": {
      "text/plain": [
       "'E:/bangla TTS/bangla_tts_generated/bangla_tts_bang1'"
      ]
     },
     "execution_count": 7,
     "metadata": {},
     "output_type": "execute_result"
    }
   ],
   "source": [
    "sp = name.split('.')[0]\n",
    "sp"
   ]
  },
  {
   "cell_type": "code",
   "execution_count": 8,
   "metadata": {},
   "outputs": [],
   "source": [
    "sp = \"bangla\"\n",
    "tttx = 'আমার সোনার বাংলা'"
   ]
  },
  {
   "cell_type": "code",
   "execution_count": 9,
   "metadata": {},
   "outputs": [
    {
     "data": {
      "text/plain": [
       "'text_file = open(text_dir+f\"/{sp}.txt\", \"x\", encoding=\"utf-8\")\\ntext_file.write(tttx)\\ntext_file.close()'"
      ]
     },
     "execution_count": 9,
     "metadata": {},
     "output_type": "execute_result"
    }
   ],
   "source": [
    "\"\"\"text_file = open(text_dir+f\"/{sp}.txt\", \"x\", encoding=\"utf-8\")\n",
    "text_file.write(tttx)\n",
    "text_file.close()\"\"\""
   ]
  },
  {
   "cell_type": "code",
   "execution_count": 10,
   "metadata": {},
   "outputs": [],
   "source": [
    "def convert_audio_to_text(audio_dir):\n",
    "    for i,file in enumerate(os.listdir(audio_dir)):\n",
    "        print(file)\n",
    "        file_name = str(file).split('.')[0]\n",
    "        text_file = open(text_dir+f\"/{file_name}.txt\", \"x\", encoding=\"utf-8\")\n",
    "        print(file_name)\n",
    "        file_ = os.path.join(audio_dir,file)\n",
    "        with sr.AudioFile(file_) as source:\n",
    "            audio_data = r.record(source)\n",
    "            text = r.recognize_google(audio_data,language = 'bn-BD')\n",
    "            text_file.write(text)\n",
    "            text_file.close()\n",
    "            print(text)"
   ]
  },
  {
   "cell_type": "code",
   "execution_count": null,
   "metadata": {},
   "outputs": [],
   "source": [
    "convert_audio_to_text(audio_dir)"
   ]
  },
  {
   "cell_type": "code",
   "execution_count": null,
   "metadata": {},
   "outputs": [],
   "source": [
    "# open the file\n",
    "with sr.AudioFile(filename) as source:\n",
    "    # listen for the data (load audio to memory)\n",
    "    audio_data = r.record(source)\n",
    "    # recognize (convert from speech to text\n",
    "    text = r.recognize_google(audio_data,language = 'bn-BD')\n",
    "    print(type(text))\n",
    "    print(text)"
   ]
  },
  {
   "cell_type": "code",
   "execution_count": 11,
   "metadata": {},
   "outputs": [],
   "source": [
    "text_dir = \"E:/bangla TTS/hts_TTS_TEXT\"\n",
    "os.mkdir(text_dir)"
   ]
  },
  {
   "cell_type": "code",
   "execution_count": 12,
   "metadata": {},
   "outputs": [],
   "source": [
    "audio_dir_hts = \"E:/bangla TTS/hts_generated\""
   ]
  },
  {
   "cell_type": "code",
   "execution_count": 13,
   "metadata": {},
   "outputs": [
    {
     "name": "stdout",
     "output_type": "stream",
     "text": [
      "hts_1.wav\n",
      "hts_1\n",
      "আমি নারী আমি দয়া দিয়ে বিশ্ব জয় করে\n",
      "hts_10.wav\n",
      "hts_10\n",
      "বিশ্বের যা কিছু মহান সৃষ্টি চির কল্যাণকর অর্ধেক তার করিয়াছে নারী অর্ধেক তার নর\n",
      "hts_100.wav\n",
      "hts_100\n",
      "ভালো আছি ভালো থেকো আকাশের ঠিকানায় চিঠি লিখো\n",
      "hts_11.wav\n",
      "hts_11\n",
      "তোমাদের পানে চাহিয়া বন্ধু আমি আর জাগিব না কোলাহল করি সারা দিনমান কারো ধ্যান ভাঙ্গিবনা\n",
      "hts_12.wav\n",
      "hts_12\n",
      "মানুষের মা\n",
      "hts_13.wav\n",
      "hts_13\n",
      "ঘুমিয়ে আছে শিশুর পিতা সব শিশুরই অন্তরে\n",
      "hts_14.wav\n",
      "hts_14\n",
      "আয় ছেলেরা আয় মেয়েরা ফুল তুলিতে যাই\n",
      "hts_15.wav\n",
      "hts_15\n",
      "এক জীবনে কতোটা আর নষ্ট হবে এক মানবী কতোটা আর কষ্ট দেবে\n",
      "hts_16.wav\n",
      "hts_16\n",
      "710 কোরি আক্রমণ ধোনির অন্যের সঙ্গে সহসা একদা পেল সে প্রবীণ কোনো এক মহাজনে\n",
      "hts_17.wav\n",
      "hts_17\n",
      "কেয়া পাতার নৌকো গড়ে সাজিয়ে দেব ফুলে তালদিঘিতে ভাসিয়ে দেব চলবে দুলে দুলে\n",
      "hts_18.wav\n",
      "hts_18\n",
      "যে জন দিবসে মনের হরষে জ্বালায় মোমের বাতি\n",
      "hts_19.wav\n",
      "hts_19\n",
      "আমি তোমার জন্যে পথপ্রান্তে অশ্বত্থের মতো দাঁড়িয়ে থাকবো\n",
      "hts_2.wav\n",
      "hts_2\n",
      "তুমি অধম তাই বলে আমি উত্তম হইব কে\n",
      "hts_20.wav\n",
      "hts_20\n",
      "এইখানে তোর দাদির কবর ডালিম-গাছের তলে তিরিশ বছর ভিজায়ে রেখেছি দুই নয়নের জলে\n",
      "hts_21.wav\n",
      "hts_21\n",
      "আস সালামুআলাইকুম ওরাহমাতুল্লাহ কেমন আছে\n",
      "hts_22.wav\n",
      "hts_22\n",
      "চল সুন্দরবন থেকে ঘুরে আসি\n",
      "hts_23.wav\n",
      "hts_23\n",
      "আগামীকাল তোর সাথে দেখা করো\n",
      "hts_24.wav\n",
      "hts_24\n",
      "আমাদের বাড়িতে বেড়াতে আসো\n",
      "hts_25.wav\n",
      "hts_25\n",
      "কি অবস্থা কি করতেছ সবাই ভালো আছে তো\n",
      "hts_26.wav\n",
      "hts_26\n",
      "তুমি কি এখন ভাত খাব\n",
      "hts_27.wav\n",
      "hts_27\n",
      "আম্মু তোকে ফোনে পাচ্ছি না\n",
      "hts_28.wav\n",
      "hts_28\n",
      "মনে হয় আপনাকে আগে কোথাও দেখেছি\n",
      "hts_29.wav\n",
      "hts_29\n",
      "বের হওয়ার আগে আমাকে জানিয়ে যাস\n",
      "hts_3.wav\n",
      "hts_3\n",
      "হাজার বছর ধরে আমি পথ হাঁটিতেছি পৃথিবীর পথে\n",
      "hts_30.wav\n",
      "hts_30\n",
      "পত্রিকাটা বাবার ঘরে দিয়ে আয়\n",
      "hts_31.wav\n",
      "hts_31\n",
      "তুমি আমাকে দেখেছিলি\n",
      "hts_32.wav\n",
      "hts_32\n",
      "এখন কটা বাজে বলতে পারো\n",
      "hts_33.wav\n",
      "hts_33\n",
      "এটা কোন কথা হলো ভাই আগে বল্লেই হতো\n",
      "hts_34.wav\n",
      "hts_34\n",
      "আমি ফিরে এসে টেবিলে নাস্তা সাজানো দেখতে চাই\n",
      "hts_35.wav\n",
      "hts_35\n",
      "আজকে একটু তাড়াতাড়ি ক্লাস শেষ করে দেন\n",
      "hts_36.wav\n",
      "hts_36\n",
      "শান্তি মতো একটু ঘুমাতেও দিবি না\n",
      "hts_37.wav\n",
      "hts_37\n",
      "আচার কাজ করতে হবে না এবার বাড়ি চল\n",
      "hts_38.wav\n",
      "hts_38\n",
      "অন্যায় যে করে সংশোধন তো তাকে করতেই হবে\n",
      "hts_39.wav\n",
      "hts_39\n",
      "আমি খুব দুঃখিত আপনাদের ওকে অনেক কষ্ট করে আসতে হবে\n",
      "hts_4.wav\n",
      "hts_4\n",
      "আমি ক্লান্ত প্রাণ এক চারিদিকে জীবনের সমুদ্র সফেন আমারে দুদণ্ড শান্তি দিয়েছিল নাটোরের বনলতা সেন\n",
      "hts_40.wav\n",
      "hts_40\n",
      "আটা দিয়ে কি করবি\n",
      "hts_41.wav\n",
      "hts_41\n",
      "পাকস্থলীর দেয়ালে শিং মাছের চচ্চড়ি\n",
      "hts_42.wav\n",
      "hts_42\n",
      "বাবা তোমার সমস্যাটা কি\n",
      "hts_43.wav\n",
      "hts_43\n",
      "দরকার হলে আমি আবার পা চেপে ধরুন এই কাজটা আমি খুব ভাল পারি\n",
      "hts_44.wav\n",
      "hts_44\n",
      "ভালো কথা তুমি কিন্তু এ কদম চা বানাতে পারো নাই খারাপ আমি জীবনে খাইনি\n",
      "hts_45.wav\n",
      "hts_45\n",
      "কী আশ্চর্য কান্ড আমাকে নিতে আসো তুমি\n",
      "hts_46.wav\n",
      "hts_46\n",
      "কেমন লাগছে আনিচ আমি তোমাকে বলছি কেমন আছো\n",
      "hts_47.wav\n",
      "hts_47\n",
      "আমি তোর বিয়াই ভালো কিছু দিতে চাইছিলাম কিন্তু টাকা পয়সা নাই কই থেকে\n",
      "hts_48.wav\n",
      "hts_48\n",
      "এভাবে কথা বলবেন না তো বাকের ভাই\n",
      "hts_49.wav\n",
      "hts_49\n",
      "আচ্ছা বল দেখি পৃথিবীর ওজন কত\n",
      "hts_5.wav\n",
      "hts_5\n",
      "ক্ষুধার রাজ্যে পৃথিবী গদ্যময় পূর্ণিমার চাঁদ যেন\n",
      "hts_50.wav\n",
      "hts_50\n",
      "কাগজ-কলম নেও কাগজে 2012 লিক হবে আমি মিথ্যা বলব না\n",
      "hts_51.wav\n",
      "hts_51\n",
      "বন্ধু আবিষ্কার হওয়াতে পাখি হয়ে জন্মাতে সাহস হলো না\n",
      "hts_52.wav\n",
      "hts_52\n",
      "যখন তখন যখন তখন\n",
      "hts_53.wav\n",
      "hts_53\n",
      "কিন্তু আমরা সুখী বিস্ময়কর এবং হতাশ\n",
      "hts_54.wav\n",
      "hts_54\n",
      "বই পড়ি মনের আনন্দে কবিতা আবৃত্তি করি দাবা খেলি\n",
      "hts_55.wav\n",
      "hts_55\n",
      "আমি মরে গেলে কিন্তু আমাকে এত সহজে ফেলে রেখে যেতে পারতেন\n",
      "hts_56.wav\n",
      "hts_56\n",
      "একটু হাসি হাসি মুখে টেলিফোন করো\n",
      "hts_57.wav\n",
      "hts_57\n",
      "তুমি হাসো আর আমার ওকে খুন করে ফেলতে ইচ্ছে করে কবে যে করে ফেলো\n",
      "hts_58.wav\n",
      "hts_58\n",
      "আপনি গ্রামের জানতাম গ্রাম্য জানতাম\n",
      "hts_59.wav\n",
      "hts_59\n",
      "তালুকদার সাহেবের যেমন একমাত্র কন্যা তুমিও আমার অতি আদরের একমাত্র পুত্র\n",
      "hts_6.wav\n",
      "hts_6\n",
      "সুশিক্ষিত লোক মাত্রই স্বশিক্ষিত\n",
      "hts_60.wav\n",
      "hts_60\n",
      "মিথ্যা বলার জন্য তোমাকে কি শাস্তি দেওয়া যায় ঠিক করে\n",
      "hts_62.wav\n",
      "hts_62\n",
      "বিক্ষোভকারীদের ছত্রভঙ্গ করে দিয়েছে পুলিশ\n",
      "hts_63.wav\n",
      "hts_63\n",
      "দেশে ফেরার দাবিতে লেবানন দূতাবাসের সামনে প্রবাসীদের মানববন্ধন\n",
      "hts_64.wav\n",
      "hts_64\n",
      "পিসির বিরুদ্ধে ব্যবস্থা নিতে প্রেসিডেন্টের প্রতি বিশিষ্টজনেরা\n",
      "hts_68.wav\n",
      "hts_68\n",
      "রহিংয়া ফেরাতে দক্ষিণ কোরিয়ার সমর্থন চাইলেন প্রধানমন্ত্রী\n",
      "hts_69.wav\n",
      "hts_69\n",
      "খুলনাকে শিরোপা এনে দিলেন মাহমুদুল্লাহ\n",
      "hts_7.wav\n",
      "hts_7\n",
      "বন্যেরা বনে সুন্দর শিশুরা মাতৃক্রোড়ে\n",
      "hts_73.wav\n",
      "hts_73\n",
      "মেসির গোলে জয় ফিনাল বাসা\n",
      "hts_74.wav\n",
      "hts_74\n",
      "পটুয়াখালীতে যথাযথ মর্যাদায় শহীদ বুদ্ধিজীবী দিবস পালিত\n",
      "hts_75.wav\n",
      "hts_75\n",
      "মামলায় হেরে আদালত চত্বরে এ জীবন দিলেন যুবক\n",
      "hts_78.wav\n",
      "hts_78\n",
      "বিশ্বজুড়ে গুগলের সেবায় সামরিক বিভাগ\n",
      "hts_79.wav\n",
      "hts_79\n",
      "বেহাল সড়কে ভারী যান চলাচল বন্ধের দাবি\n",
      "hts_8.wav\n",
      "hts_8\n",
      "রাত পোহাবার কত দেরি পাঞ্জেরি\n",
      "hts_80.wav\n",
      "hts_80\n",
      "আইনজীবীর ছুরিকাঘাতে যুবক নিহত\n",
      "hts_81.wav\n",
      "hts_81\n",
      "আমাকে আমার মত থাকতে দাও আমি নিজেকে নিজের মতো গুছিয়ে নিয়েছি\n",
      "hts_82.wav\n",
      "hts_82\n",
      "পিচ ঢালা এই পথটারে ভালোবেসেছি\n",
      "hts_83.wav\n",
      "hts_83\n",
      "মোরা একটি ফুলকে বাঁচাবো বলে যুদ্ধ করি\n",
      "hts_84.wav\n",
      "hts_84\n",
      "আমার ভাইয়ের রক্তে রাঙানো একুশে ফেব্রুয়ারী আমি কি ভুলিতে পারি\n",
      "hts_85.wav\n",
      "hts_85\n",
      "তুমি কি দেখেছ কভু জীবনের পরাজয়\n",
      "hts_86.wav\n",
      "hts_86\n",
      "আকাশের হাতে আছে একরাশ নীল বাতাসের আছে কিছু গন্ধ\n",
      "hts_87.wav\n",
      "hts_87\n",
      "আমি এক যাযাবর আমি এক যাযাবর\n",
      "hts_88.wav\n",
      "hts_88\n",
      "এই মেঘলা দিনে একলা ঘরে থাকেনাতো মন কাছে যাবো কবে পাবো ওগো তোমার নিমন্ত্রণ\n",
      "hts_89.wav\n",
      "hts_89\n",
      "কফি হাউসের সেই আড্ডাটা আজ আর নেই আজ আর নেই\n",
      "hts_9.wav\n",
      "hts_9\n",
      "দেখা হয় নাই চক্ষু মেলিয়া ঘর হতে শুধু দুই পা ফেলিয়া\n",
      "hts_90.wav\n",
      "hts_90\n",
      "কেন বাড়লে বয়স ছোট্ট বেলার বন্ধু হারিয়ে যায় কেন হারাচ্ছে সব বাড়াচ্ছে ভিড় হারানোর তালিকায়\n",
      "hts_91.wav\n",
      "hts_91\n",
      "মনে পড়ে রুবি রায় মনে পড়ে রুবি রায় কবিতায় তোমাকে একদিন কত করে দেখেছি\n",
      "hts_92.wav\n",
      "hts_92\n",
      "আমি শুনেছি সেদিন তুমি সাগরের ঢেউয়ে চেপে নীল জল দিগন্ত ছুঁয়ে এসেছো\n",
      "hts_93.wav\n",
      "hts_93\n",
      "সব শব্দ থেমে যাক নিস্তব্ধতায় শুধু জেগে থাক এই সাগর আমার পাশে\n",
      "hts_94.wav\n",
      "hts_94\n",
      "এই গল্পের নাম ঠিকানা আমার কাছে আজও অজানা\n",
      "hts_95.wav\n",
      "hts_95\n",
      "আগুনের দিন গুনছে সকাল বাসস্টপে একা আলোর পথিক\n",
      "hts_96.wav\n",
      "hts_96\n",
      "হোক কলরব ফুলগুলো সব লাল না হয়ে নিল হল কেন\n",
      "hts_97.wav\n",
      "hts_97\n",
      "তুমি ছেয়ে আচ তাই আমি পথে হেতে জাই\n",
      "hts_98.wav\n",
      "hts_98\n",
      "তবু এই দেয়ালের শরীরে যতো ছেড়া রং ধুয়ে যাওয়া\n",
      "hts_99.wav\n",
      "hts_99\n",
      "তুমি সেই পূর্ণতা আমার অনুভবে\n"
     ]
    }
   ],
   "source": [
    "convert_audio_to_text(audio_dir_hts)"
   ]
  },
  {
   "cell_type": "code",
   "execution_count": null,
   "metadata": {},
   "outputs": [],
   "source": [
    "text_dir = \"E:/bangla TTS/kotha_TEXT\"\n",
    "os.mkdir(text_dir)"
   ]
  },
  {
   "cell_type": "code",
   "execution_count": null,
   "metadata": {},
   "outputs": [],
   "source": [
    "audio_dir_katha = \"E:/bangla TTS/katha_generated\""
   ]
  },
  {
   "cell_type": "code",
   "execution_count": null,
   "metadata": {},
   "outputs": [],
   "source": [
    "convert_audio_to_text(audio_dir_katha)"
   ]
  },
  {
   "cell_type": "code",
   "execution_count": null,
   "metadata": {},
   "outputs": [],
   "source": []
  },
  {
   "cell_type": "code",
   "execution_count": null,
   "metadata": {},
   "outputs": [],
   "source": []
  },
  {
   "cell_type": "code",
   "execution_count": null,
   "metadata": {},
   "outputs": [],
   "source": []
  },
  {
   "cell_type": "code",
   "execution_count": null,
   "metadata": {},
   "outputs": [],
   "source": []
  },
  {
   "cell_type": "code",
   "execution_count": null,
   "metadata": {},
   "outputs": [],
   "source": []
  }
 ],
 "metadata": {
  "kernelspec": {
   "display_name": "Python 3",
   "language": "python",
   "name": "python3"
  },
  "language_info": {
   "codemirror_mode": {
    "name": "ipython",
    "version": 3
   },
   "file_extension": ".py",
   "mimetype": "text/x-python",
   "name": "python",
   "nbconvert_exporter": "python",
   "pygments_lexer": "ipython3",
   "version": "3.8.5"
  }
 },
 "nbformat": 4,
 "nbformat_minor": 4
}
