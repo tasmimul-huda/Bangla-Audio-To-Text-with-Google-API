{
 "cells": [
  {
   "cell_type": "markdown",
   "metadata": {},
   "source": [
    "* Reading The Audio file\n",
    "* store the name of the audio\n",
    "* convert the text into audio\n",
    "* save the text file with the same name\n"
   ]
  },
  {
   "cell_type": "code",
   "execution_count": 1,
   "metadata": {},
   "outputs": [],
   "source": [
    "import speech_recognition as sr\n",
    "import os"
   ]
  },
  {
   "cell_type": "code",
   "execution_count": 2,
   "metadata": {},
   "outputs": [],
   "source": [
    "text_dir = \"E:/bangla TTS/text_dir\"\n",
    "os.mkdir(text_dir)"
   ]
  },
  {
   "cell_type": "code",
   "execution_count": 2,
   "metadata": {},
   "outputs": [],
   "source": [
    "r = sr.Recognizer()"
   ]
  },
  {
   "cell_type": "code",
   "execution_count": 3,
   "metadata": {},
   "outputs": [],
   "source": [
    "audio_dir = \"E:/bangla TTS/audio\""
   ]
  },
  {
   "cell_type": "code",
   "execution_count": 6,
   "metadata": {},
   "outputs": [],
   "source": [
    "filename = audio_dir + \"/bangla_tts_bangeng2.wav\""
   ]
  },
  {
   "cell_type": "code",
   "execution_count": 6,
   "metadata": {},
   "outputs": [
    {
     "name": "stdout",
     "output_type": "stream",
     "text": [
      "E:/bangla TTS/audiobangla_tts_bang14.wav\n"
     ]
    }
   ],
   "source": [
    "name = str(filename)\n",
    "print(name)"
   ]
  },
  {
   "cell_type": "code",
   "execution_count": 7,
   "metadata": {},
   "outputs": [
    {
     "data": {
      "text/plain": [
       "'E:/bangla TTS/audiobangla_tts_bang14'"
      ]
     },
     "execution_count": 7,
     "metadata": {},
     "output_type": "execute_result"
    }
   ],
   "source": [
    "sp = name.split('.')[0]\n",
    "sp"
   ]
  },
  {
   "cell_type": "code",
   "execution_count": null,
   "metadata": {},
   "outputs": [],
   "source": [
    "sp = \"bangla\"\n",
    "tttx = 'আমার সোনার বাংলা'"
   ]
  },
  {
   "cell_type": "code",
   "execution_count": null,
   "metadata": {},
   "outputs": [],
   "source": [
    "text_file = open(text_dir+f\"/{sp}.txt\", \"x\", encoding=\"utf-8\")\n",
    "text_file.write(tttx)\n",
    "text_file.close()"
   ]
  },
  {
   "cell_type": "code",
   "execution_count": 8,
   "metadata": {},
   "outputs": [],
   "source": [
    "def convert_audio_to_text(audio_dir):\n",
    "    for i,file in enumerate(os.listdir(audio_dir)):\n",
    "        print(file)\n",
    "        file_name = str(file).split('.')[0]\n",
    "        text_file = open(text_dir+f\"/generated_{file_name}.txt\", \"x\", encoding=\"utf-8\")\n",
    "        print(file_name)\n",
    "        file_ = os.path.join(audio_dir,file)\n",
    "        with sr.AudioFile(file_) as source:\n",
    "            audio_data = r.record(source)\n",
    "            text = r.recognize_google(audio_data,language = 'bn-BD')\n",
    "            text_file.write(text)\n",
    "            text_file.close()\n",
    "            print(text)"
   ]
  },
  {
   "cell_type": "code",
   "execution_count": 9,
   "metadata": {},
   "outputs": [
    {
     "name": "stdout",
     "output_type": "stream",
     "text": [
      "bangla_tts_bang14.wav\n",
      "bangla_tts_bang14\n",
      "ছেলেরা মেয়েরা ফুল তুলিতে যাই\n",
      "bangla_tts_bang20.wav\n",
      "bangla_tts_bang20\n",
      "এইখানে তোর দাদির কবর ডালিম-গাছের তলে তিরিশ বছর ভিজায়ে রেখেছি দুই নয়নের জলে\n",
      "bangla_tts_bang23.wav\n",
      "bangla_tts_bang23\n",
      "আগামীকাল তোর সাথে দেখা করব\n",
      "bangla_tts_bang3.wav\n",
      "bangla_tts_bang3\n",
      "হাজার বছর ধরে আমি পথ হাঁটিতেছি পৃথিবীর পথে\n",
      "bangla_tts_bang48.wav\n",
      "bangla_tts_bang48\n",
      "এভাবে কথা বলবেন না তো বাকের ভাই\n",
      "bangla_tts_bang69.wav\n",
      "bangla_tts_bang69\n",
      "খুলনা কিসের বাহিরে যেতে মাহমুদা\n",
      "bangla_tts_bang84.wav\n",
      "bangla_tts_bang84\n",
      "আমার ভাইয়ের রক্তে রাঙানো একুশে ফেব্রুয়ারি আমি কি ভুলতে পারি\n",
      "bangla_tts_bang92.wav\n",
      "bangla_tts_bang92\n",
      "আমি শুনেছি সেদিন তুমি সাগরের ঢেউয়ে চেপে নীল জল দিগন্ত ছুঁয়ে এসেছো\n",
      "bangla_tts_bangeng16.wav\n",
      "bangla_tts_bangeng16\n",
      "রাখি আমাকে ফোন করে কনফার্ম করে দিলি\n",
      "bangla_tts_bangeng2.wav\n",
      "bangla_tts_bangeng2\n",
      "ভহিচ আমার অনেক ভালো লেগেছে\n",
      "hts_14.wav\n",
      "hts_14\n",
      "আয় ছেলেরা আয় মেয়েরা ফুল তুলিতে যাই\n",
      "hts_20.wav\n",
      "hts_20\n",
      "এইখানে তোর দাদির কবর ডালিম-গাছের তলে তিরিশ বছর ভিজায়ে রেখেছি দুই নয়নের জলে\n",
      "hts_23.wav\n",
      "hts_23\n",
      "আগামীকাল তোর সাথে দেখা করো\n",
      "hts_3.wav\n",
      "hts_3\n",
      "হাজার বছর ধরে আমি পথ হাঁটিতেছি পৃথিবীর পথে\n",
      "hts_48.wav\n",
      "hts_48\n",
      "এভাবে কথা বলবেন না তো বাকের ভাই\n",
      "hts_69.wav\n",
      "hts_69\n",
      "খুলনাকে শিরোপা এনে দিলেন মাহমুদুল্লাহ\n",
      "hts_84.wav\n",
      "hts_84\n",
      "আমার ভাইয়ের রক্তে রাঙানো একুশে ফেব্রুয়ারী আমি কি ভুলিতে পারি\n",
      "hts_92.wav\n",
      "hts_92\n",
      "আমি শুনেছি সেদিন তুমি সাগরের ঢেউয়ে চেপে নীল জল দিগন্ত ছুঁয়ে এসেছো\n",
      "kotha_14.wav\n",
      "kotha_14\n",
      "ছেলেরা আয় মেয়েরা ফুল তুলিতে যাই\n",
      "kotha_20.wav\n",
      "kotha_20\n",
      "এইখানে তোর দাদির কবর ডালিম-গাছের তলে তিরিশ বছর ভিজায়ে রেখেছি দুই নয়নের জলে\n",
      "kotha_23.wav\n",
      "kotha_23\n",
      "আগামীকাল তোমার সাথে দেখা করো\n",
      "kotha_3.wav\n",
      "kotha_3\n",
      "হাজার বছর ধরে আমি পথ হাঁটিতেছি পৃথিবীর পথে\n",
      "kotha_48.wav\n",
      "kotha_48\n",
      "এভাবে কথা বলা মিন্নাত বাকের ভাই\n",
      "kotha_69.wav\n",
      "kotha_69\n",
      "ফুল্ল নাকেদ শিল্পা এনে দিলেন মাহমুদুল্লাহ\n",
      "kotha_84.wav\n",
      "kotha_84\n",
      "আমার ভাইয়ের রক্তে রাঙানো একুশে ফেব্রুয়ারী আমি কি ভুলিতে পারি\n",
      "kotha_92.wav\n",
      "kotha_92\n",
      "আমি শুনেছি সেদিন তুমি সাগরের ঢেউয়ে চেপে নীল জল দিগন্ত ছুঁয়ে এসেছো\n"
     ]
    }
   ],
   "source": [
    "convert_audio_to_text(audio_dir)"
   ]
  },
  {
   "cell_type": "code",
   "execution_count": 23,
   "metadata": {},
   "outputs": [
    {
     "name": "stdout",
     "output_type": "stream",
     "text": [
      "<class 'str'>\n",
      "ভহিচ আমার অনেক ভালো লেগেছে\n"
     ]
    }
   ],
   "source": [
    "# open the file\n",
    "with sr.AudioFile(filename) as source:\n",
    "    # listen for the data (load audio to memory)\n",
    "    audio_data = r.record(source)\n",
    "    # recognize (convert from speech to text\n",
    "    text = r.recognize_google(audio_data,language = 'bn-BD')\n",
    "    print(type(text))\n",
    "    print(text)"
   ]
  },
  {
   "cell_type": "code",
   "execution_count": null,
   "metadata": {},
   "outputs": [],
   "source": []
  }
 ],
 "metadata": {
  "kernelspec": {
   "display_name": "Python 3",
   "language": "python",
   "name": "python3"
  },
  "language_info": {
   "codemirror_mode": {
    "name": "ipython",
    "version": 3
   },
   "file_extension": ".py",
   "mimetype": "text/x-python",
   "name": "python",
   "nbconvert_exporter": "python",
   "pygments_lexer": "ipython3",
   "version": "3.8.5"
  }
 },
 "nbformat": 4,
 "nbformat_minor": 4
}
